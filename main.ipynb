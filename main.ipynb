{
  "nbformat": 4,
  "nbformat_minor": 0,
  "metadata": {
    "colab": {
      "name": "main.ipynb",
      "provenance": [],
      "authorship_tag": "ABX9TyMFt23FflzTEUke6gjoXnNG"
    },
    "kernelspec": {
      "name": "python3",
      "display_name": "Python 3"
    }
  },
  "cells": [
    {
      "cell_type": "markdown",
      "metadata": {
        "id": "xYDjbq-pt8RJ"
      },
      "source": [
        "# First Project for the Social Computing Course\n",
        "\n",
        "We are gonna start to import all the stuff we need"
      ]
    },
    {
      "cell_type": "code",
      "metadata": {
        "id": "NVqWB8FXsere"
      },
      "source": [
        "import tweepy\n",
        "import os\n",
        "import json\n",
        "import pprint\n",
        "import csv"
      ],
      "execution_count": null,
      "outputs": []
    },
    {
      "cell_type": "code",
      "metadata": {
        "id": "tsHueYb-uRZu"
      },
      "source": [
        "import networkx as nx\n",
        "import pandas as pd\n",
        "import numpy as np\n",
        "import matplotlib.pyplot as plt\n",
        "from pylab import rcParams"
      ],
      "execution_count": null,
      "outputs": []
    },
    {
      "cell_type": "markdown",
      "metadata": {
        "id": "AKdLgzatuvy0"
      },
      "source": [
        "Now to use the API of Twitter, we need an developer account.  \n",
        "So please create one and add the keys to continue use this notebook."
      ]
    },
    {
      "cell_type": "code",
      "metadata": {
        "id": "faAoqBm3uvHi"
      },
      "source": [
        "# Twitter Credentials\n",
        "api_key = input(\"Enter your api key: \")\n",
        "api_key_secret = input(\"Enter your api key secret: \")\n",
        "access_token = input(\"Enter your access token: \")\n",
        "access_token_secret = input(\"Enter your access token secret: \")\n",
        "bearer_token = input(\"Enter your bearer token: \")"
      ],
      "execution_count": null,
      "outputs": []
    },
    {
      "cell_type": "markdown",
      "metadata": {
        "id": "nvU-Uah3vwpG"
      },
      "source": [
        "Once you have done, it is time to create the wrapper of Tweepy to make requestes to the API"
      ]
    },
    {
      "cell_type": "code",
      "metadata": {
        "id": "QPbzDvg7vsUq",
        "outputId": "365fd82a-92db-4385-8576-71b8ae245f73",
        "colab": {
          "base_uri": "https://localhost:8080/"
        }
      },
      "source": [
        "auth = tweepy.OAuthHandler(api_key, api_key_secret)\n",
        "auth.set_access_token(access_token, access_token_secret)\n",
        "api = tweepy.API(auth, wait_on_rate_limit=True, wait_on_rate_limit_notify=True)\n",
        "if (api.verify_credentials):\n",
        "  print(\"Authentication success!\")\n",
        "else:\n",
        "  print(\"Got a error\")"
      ],
      "execution_count": null,
      "outputs": [
        {
          "output_type": "stream",
          "text": [
            "Authentication success!\n"
          ],
          "name": "stdout"
        }
      ]
    },
    {
      "cell_type": "markdown",
      "metadata": {
        "id": "46Z2idd0RZdq"
      },
      "source": [
        "So now we need to interact with the api and save the informations about the followers and the following."
      ]
    },
    {
      "cell_type": "code",
      "metadata": {
        "id": "jodRcaNsRJeV"
      },
      "source": [
        "# Procedura\n",
        "# Dato in input uno utente, crea due dataframe: il primo contiene l'insieme degli utenti trovati e il secondo le relazioni tra di loro\n",
        "\n",
        "def saveUsersInformation(user, df_users, df_relations): \n",
        "    quantity = 500\n",
        "\n",
        "    # request of the user\n",
        "    user_info = api.get_user(screen_name=user)._json\n",
        "    row = pd.json_normalize(user_info)\n",
        "    df_users = pd.concat([df_users, row])\n",
        "\n",
        "    user_id = user_info[\"id\"]\n",
        "\n",
        "    # request of user's followers\n",
        "    for item in tweepy.Cursor(api.followers, id=user).items(quantity):\n",
        "        data_item = item._json\n",
        "        row_user = pd.json_normalize(data_item)\n",
        "        # item -> user\n",
        "        row_relation = pd.DataFrame([[data_item[\"id\"], user_id]], columns=[\"Follower\", \"Following\"])\n",
        "        df_users = pd.concat([df_users, row_user])\n",
        "        df_relations = pd.concat([df_relations, row_relation])\n",
        "\n",
        "    # request of user's followings\n",
        "    for item in tweepy.Cursor(api.friends, id=user).items(quantity):\n",
        "\n",
        "      data_item = item._json\n",
        "      row_user = pd.json_normalize(data_item)\n",
        "      # user -> item\n",
        "      row_relation = pd.DataFrame([[user_id, data_item[\"id\"]]], columns=[\"Follower\", \"Following\"])\n",
        "      df_users = pd.concat([df_users, row_user])\n",
        "      df_relations = pd.concat([df_relations, row_relation])\n",
        "\n",
        "    return df_users, df_relations\n"
      ],
      "execution_count": null,
      "outputs": []
    }
  ]
}