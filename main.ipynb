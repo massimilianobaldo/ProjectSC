{
  "nbformat": 4,
  "nbformat_minor": 0,
  "metadata": {
    "colab": {
      "name": "main.ipynb",
      "provenance": [],
      "authorship_tag": "ABX9TyNM9D66hMtVQK6PcLPW4utG"
    },
    "kernelspec": {
      "name": "python3",
      "display_name": "Python 3"
    }
  },
  "cells": [
    {
      "cell_type": "markdown",
      "metadata": {
        "id": "xYDjbq-pt8RJ"
      },
      "source": [
        "# First Project for the Social Computing Course\n",
        "\n",
        "We are gonna start to import all the stuff we need"
      ]
    },
    {
      "cell_type": "code",
      "metadata": {
        "id": "NVqWB8FXsere"
      },
      "source": [
        "import tweepy\n",
        "import os\n",
        "import json\n",
        "import pprint\n",
        "import csv"
      ],
      "execution_count": 1,
      "outputs": []
    },
    {
      "cell_type": "code",
      "metadata": {
        "id": "tsHueYb-uRZu"
      },
      "source": [
        "import networkx as nx\n",
        "import pandas as pd\n",
        "import numpy as np\n",
        "import matplotlib.pyplot as plt\n",
        "from pylab import rcParams"
      ],
      "execution_count": 2,
      "outputs": []
    },
    {
      "cell_type": "markdown",
      "metadata": {
        "id": "AKdLgzatuvy0"
      },
      "source": [
        "Now to use the API of Twitter, we need an developer account.  \n",
        "So please create one and add the keys to continue use this notebook."
      ]
    },
    {
      "cell_type": "code",
      "metadata": {
        "id": "faAoqBm3uvHi"
      },
      "source": [
        "# Twitter Credentials\n",
        "api_key = input(\"Enter your api key: \")\n",
        "api_key_secret = input(\"Enter your api key secret: \")\n",
        "access_token = input(\"Enter your access token: \")\n",
        "access_token_secret = input(\"Enter your access token secret: \")\n",
        "bearer_token = input(\"Enter your bearer token: \")"
      ],
      "execution_count": null,
      "outputs": []
    },
    {
      "cell_type": "markdown",
      "metadata": {
        "id": "nvU-Uah3vwpG"
      },
      "source": [
        "Once you have done, it is time to create the wrapper of Tweepy to make requestes to the API"
      ]
    },
    {
      "cell_type": "code",
      "metadata": {
        "id": "QPbzDvg7vsUq",
        "outputId": "365fd82a-92db-4385-8576-71b8ae245f73",
        "colab": {
          "base_uri": "https://localhost:8080/"
        }
      },
      "source": [
        "auth = tweepy.OAuthHandler(api_key, api_key_secret)\n",
        "auth.set_access_token(access_token, access_token_secret)\n",
        "api = tweepy.API(auth, wait_on_rate_limit=True, wait_on_rate_limit_notify=True)\n",
        "if (api.verify_credentials):\n",
        "  print(\"Authentication success!\")\n",
        "else:\n",
        "  print(\"Got a error\")"
      ],
      "execution_count": 4,
      "outputs": [
        {
          "output_type": "stream",
          "text": [
            "Authentication success!\n"
          ],
          "name": "stdout"
        }
      ]
    }
  ]
}