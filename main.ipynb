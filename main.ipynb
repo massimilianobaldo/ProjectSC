{
  "nbformat": 4,
  "nbformat_minor": 0,
  "metadata": {
    "colab": {
      "name": "main.ipynb",
      "provenance": [],
      "authorship_tag": "ABX9TyNyVnUyb7QorhH3iJTO4qXX"
    },
    "kernelspec": {
      "name": "python3",
      "display_name": "Python 3"
    }
  },
  "cells": [
    {
      "cell_type": "markdown",
      "metadata": {
        "id": "xYDjbq-pt8RJ"
      },
      "source": [
        "# First Project for the Social Computing Course\n",
        "\n",
        "We are gonna start to import all the stuff we need"
      ]
    },
    {
      "cell_type": "code",
      "metadata": {
        "id": "NVqWB8FXsere"
      },
      "source": [
        "import tweepy\n",
        "import os\n",
        "import json\n",
        "import pprint\n",
        "import csv"
      ],
      "execution_count": null,
      "outputs": []
    },
    {
      "cell_type": "code",
      "metadata": {
        "id": "tsHueYb-uRZu"
      },
      "source": [
        "import networkx as nx\n",
        "import pandas as pd\n",
        "import numpy as np\n",
        "import matplotlib.pyplot as plt\n",
        "from pylab import rcParams"
      ],
      "execution_count": null,
      "outputs": []
    }
  ]
}